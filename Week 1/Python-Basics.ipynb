{
 "cells": [
  {
   "cell_type": "code",
   "execution_count": 2,
   "id": "79483d7c-e498-4029-99cc-98a0ca872fe7",
   "metadata": {},
   "outputs": [],
   "source": [
    "# Terminal command within Jupyter Notebook"
   ]
  },
  {
   "cell_type": "code",
   "execution_count": 1,
   "id": "c2329e11-baab-40a0-a080-14d14c77ad2f",
   "metadata": {},
   "outputs": [
    {
     "name": "stdout",
     "output_type": "stream",
     "text": [
      "Requirement already satisfied: pandas==2.2.3 in /Users/huongnguyen/BDA602/venv/lib/python3.13/site-packages (from -r requirements.txt (line 6)) (2.2.3)\n",
      "Requirement already satisfied: numpy==2.2.2 in /Users/huongnguyen/BDA602/venv/lib/python3.13/site-packages (from -r requirements.txt (line 7)) (2.2.2)\n",
      "Requirement already satisfied: scipy in /Users/huongnguyen/BDA602/venv/lib/python3.13/site-packages (from -r requirements.txt (line 8)) (1.15.1)\n",
      "Requirement already satisfied: matplotlib in /Users/huongnguyen/BDA602/venv/lib/python3.13/site-packages (from -r requirements.txt (line 11)) (3.10.0)\n",
      "Requirement already satisfied: seaborn in /Users/huongnguyen/BDA602/venv/lib/python3.13/site-packages (from -r requirements.txt (line 12)) (0.13.2)\n",
      "Requirement already satisfied: python-dateutil>=2.8.2 in /Users/huongnguyen/BDA602/venv/lib/python3.13/site-packages (from pandas==2.2.3->-r requirements.txt (line 6)) (2.9.0.post0)\n",
      "Requirement already satisfied: pytz>=2020.1 in /Users/huongnguyen/BDA602/venv/lib/python3.13/site-packages (from pandas==2.2.3->-r requirements.txt (line 6)) (2025.1)\n",
      "Requirement already satisfied: tzdata>=2022.7 in /Users/huongnguyen/BDA602/venv/lib/python3.13/site-packages (from pandas==2.2.3->-r requirements.txt (line 6)) (2025.1)\n",
      "Requirement already satisfied: contourpy>=1.0.1 in /Users/huongnguyen/BDA602/venv/lib/python3.13/site-packages (from matplotlib->-r requirements.txt (line 11)) (1.3.1)\n",
      "Requirement already satisfied: cycler>=0.10 in /Users/huongnguyen/BDA602/venv/lib/python3.13/site-packages (from matplotlib->-r requirements.txt (line 11)) (0.12.1)\n",
      "Requirement already satisfied: fonttools>=4.22.0 in /Users/huongnguyen/BDA602/venv/lib/python3.13/site-packages (from matplotlib->-r requirements.txt (line 11)) (4.55.8)\n",
      "Requirement already satisfied: kiwisolver>=1.3.1 in /Users/huongnguyen/BDA602/venv/lib/python3.13/site-packages (from matplotlib->-r requirements.txt (line 11)) (1.4.8)\n",
      "Requirement already satisfied: packaging>=20.0 in /Users/huongnguyen/BDA602/venv/lib/python3.13/site-packages (from matplotlib->-r requirements.txt (line 11)) (24.2)\n",
      "Requirement already satisfied: pillow>=8 in /Users/huongnguyen/BDA602/venv/lib/python3.13/site-packages (from matplotlib->-r requirements.txt (line 11)) (11.1.0)\n",
      "Requirement already satisfied: pyparsing>=2.3.1 in /Users/huongnguyen/BDA602/venv/lib/python3.13/site-packages (from matplotlib->-r requirements.txt (line 11)) (3.2.1)\n",
      "Requirement already satisfied: six>=1.5 in /Users/huongnguyen/BDA602/venv/lib/python3.13/site-packages (from python-dateutil>=2.8.2->pandas==2.2.3->-r requirements.txt (line 6)) (1.17.0)\n"
     ]
    }
   ],
   "source": [
    "!pip install -r requirements.txt"
   ]
  },
  {
   "cell_type": "code",
   "execution_count": 2,
   "id": "dc8d2add-64db-4fac-ab5e-faed7eb2a343",
   "metadata": {},
   "outputs": [
    {
     "name": "stdout",
     "output_type": "stream",
     "text": [
      "Requirement already satisfied: numpy in /Users/huongnguyen/BDA602/venv/lib/python3.13/site-packages (2.2.2)\n",
      "Requirement already satisfied: scipy in /Users/huongnguyen/BDA602/venv/lib/python3.13/site-packages (1.15.1)\n",
      "Requirement already satisfied: pandas in /Users/huongnguyen/BDA602/venv/lib/python3.13/site-packages (2.2.3)\n",
      "Requirement already satisfied: matplotlib in /Users/huongnguyen/BDA602/venv/lib/python3.13/site-packages (3.10.0)\n",
      "Requirement already satisfied: seaborn in /Users/huongnguyen/BDA602/venv/lib/python3.13/site-packages (0.13.2)\n",
      "Requirement already satisfied: python-dateutil>=2.8.2 in /Users/huongnguyen/BDA602/venv/lib/python3.13/site-packages (from pandas) (2.9.0.post0)\n",
      "Requirement already satisfied: pytz>=2020.1 in /Users/huongnguyen/BDA602/venv/lib/python3.13/site-packages (from pandas) (2025.1)\n",
      "Requirement already satisfied: tzdata>=2022.7 in /Users/huongnguyen/BDA602/venv/lib/python3.13/site-packages (from pandas) (2025.1)\n",
      "Requirement already satisfied: contourpy>=1.0.1 in /Users/huongnguyen/BDA602/venv/lib/python3.13/site-packages (from matplotlib) (1.3.1)\n",
      "Requirement already satisfied: cycler>=0.10 in /Users/huongnguyen/BDA602/venv/lib/python3.13/site-packages (from matplotlib) (0.12.1)\n",
      "Requirement already satisfied: fonttools>=4.22.0 in /Users/huongnguyen/BDA602/venv/lib/python3.13/site-packages (from matplotlib) (4.55.8)\n",
      "Requirement already satisfied: kiwisolver>=1.3.1 in /Users/huongnguyen/BDA602/venv/lib/python3.13/site-packages (from matplotlib) (1.4.8)\n",
      "Requirement already satisfied: packaging>=20.0 in /Users/huongnguyen/BDA602/venv/lib/python3.13/site-packages (from matplotlib) (24.2)\n",
      "Requirement already satisfied: pillow>=8 in /Users/huongnguyen/BDA602/venv/lib/python3.13/site-packages (from matplotlib) (11.1.0)\n",
      "Requirement already satisfied: pyparsing>=2.3.1 in /Users/huongnguyen/BDA602/venv/lib/python3.13/site-packages (from matplotlib) (3.2.1)\n",
      "Requirement already satisfied: six>=1.5 in /Users/huongnguyen/BDA602/venv/lib/python3.13/site-packages (from python-dateutil>=2.8.2->pandas) (1.17.0)\n"
     ]
    }
   ],
   "source": [
    "!pip install numpy scipy pandas matplotlib seaborn"
   ]
  },
  {
   "cell_type": "code",
   "execution_count": 3,
   "id": "70623ac5-0580-4b62-905d-2f24df5d440a",
   "metadata": {},
   "outputs": [
    {
     "name": "stdout",
     "output_type": "stream",
     "text": [
      "anyio==4.8.0\n",
      "appnope==0.1.4\n",
      "argon2-cffi==23.1.0\n",
      "argon2-cffi-bindings==21.2.0\n",
      "arrow==1.3.0\n",
      "asttokens==3.0.0\n",
      "async-lru==2.0.4\n",
      "attrs==25.1.0\n",
      "babel==2.16.0\n",
      "beautifulsoup4==4.12.3\n",
      "bleach==6.2.0\n",
      "certifi==2025.1.31\n",
      "cffi==1.17.1\n",
      "charset-normalizer==3.4.1\n",
      "comm==0.2.2\n",
      "contourpy==1.3.1\n",
      "cycler==0.12.1\n",
      "debugpy==1.8.12\n",
      "decorator==5.1.1\n",
      "defusedxml==0.7.1\n",
      "executing==2.2.0\n",
      "fastjsonschema==2.21.1\n",
      "fonttools==4.55.8\n",
      "fqdn==1.5.1\n",
      "h11==0.14.0\n",
      "httpcore==1.0.7\n",
      "httpx==0.28.1\n",
      "idna==3.10\n",
      "ipykernel==6.29.5\n",
      "ipython==8.31.0\n",
      "ipywidgets==8.1.5\n",
      "isoduration==20.11.0\n",
      "jedi==0.19.2\n",
      "Jinja2==3.1.5\n",
      "json5==0.10.0\n",
      "jsonpointer==3.0.0\n",
      "jsonschema==4.23.0\n",
      "jsonschema-specifications==2024.10.1\n",
      "jupyter==1.1.1\n",
      "jupyter-console==6.6.3\n",
      "jupyter-events==0.11.0\n",
      "jupyter-lsp==2.2.5\n",
      "jupyter_client==8.6.3\n",
      "jupyter_core==5.7.2\n",
      "jupyter_server==2.15.0\n",
      "jupyter_server_terminals==0.5.3\n",
      "jupyterlab==4.3.5\n",
      "jupyterlab_pygments==0.3.0\n",
      "jupyterlab_server==2.27.3\n",
      "jupyterlab_widgets==3.0.13\n",
      "kiwisolver==1.4.8\n",
      "MarkupSafe==3.0.2\n",
      "matplotlib==3.10.0\n",
      "matplotlib-inline==0.1.7\n",
      "mistune==3.1.1\n",
      "nbclient==0.10.2\n",
      "nbconvert==7.16.6\n",
      "nbformat==5.10.4\n",
      "nest-asyncio==1.6.0\n",
      "notebook==7.3.2\n",
      "notebook_shim==0.2.4\n",
      "numpy==2.2.2\n",
      "overrides==7.7.0\n",
      "packaging==24.2\n",
      "pandas==2.2.3\n",
      "pandocfilters==1.5.1\n",
      "parso==0.8.4\n",
      "pexpect==4.9.0\n",
      "pillow==11.1.0\n",
      "platformdirs==4.3.6\n",
      "prometheus_client==0.21.1\n",
      "prompt_toolkit==3.0.50\n",
      "psutil==6.1.1\n",
      "ptyprocess==0.7.0\n",
      "pure_eval==0.2.3\n",
      "pycparser==2.22\n",
      "Pygments==2.19.1\n",
      "pyparsing==3.2.1\n",
      "python-dateutil==2.9.0.post0\n",
      "python-json-logger==3.2.1\n",
      "pytz==2025.1\n",
      "PyYAML==6.0.2\n",
      "pyzmq==26.2.1\n",
      "referencing==0.36.2\n",
      "requests==2.32.3\n",
      "rfc3339-validator==0.1.4\n",
      "rfc3986-validator==0.1.1\n",
      "rpds-py==0.22.3\n",
      "scipy==1.15.1\n",
      "seaborn==0.13.2\n",
      "Send2Trash==1.8.3\n",
      "setuptools==75.8.0\n",
      "six==1.17.0\n",
      "sniffio==1.3.1\n",
      "soupsieve==2.6\n",
      "stack-data==0.6.3\n",
      "terminado==0.18.1\n",
      "tinycss2==1.4.0\n",
      "tornado==6.4.2\n",
      "traitlets==5.14.3\n",
      "types-python-dateutil==2.9.0.20241206\n",
      "tzdata==2025.1\n",
      "uri-template==1.3.0\n",
      "urllib3==2.3.0\n",
      "wcwidth==0.2.13\n",
      "webcolors==24.11.1\n",
      "webencodings==0.5.1\n",
      "websocket-client==1.8.0\n",
      "widgetsnbextension==4.0.13\n"
     ]
    }
   ],
   "source": [
    "!pip freeze"
   ]
  },
  {
   "cell_type": "code",
   "execution_count": 7,
   "id": "2238b81e-b051-4793-a5d1-a1829d54f4a5",
   "metadata": {},
   "outputs": [
    {
     "name": "stdout",
     "output_type": "stream",
     "text": [
      "Success!\n"
     ]
    }
   ],
   "source": [
    "# ################## #\n",
    "# Import Libraries\n",
    "# ################## #\n",
    "\n",
    "# Import entire library into Python runtime\n",
    "import pandas as pd\n",
    "import numpy as np\n",
    "\n",
    "# Import a specific method (function) from library\n",
    "from scipy.stats import norm\n",
    "\n",
    "# Data visualization libraries\n",
    "import matplotlib.pyplot as plt\n",
    "import seaborn as sns\n",
    "\n",
    "print(f\"Success!\")"
   ]
  },
  {
   "cell_type": "code",
   "execution_count": 8,
   "id": "8f2b3757-606a-4bc6-b185-1df68dfbcc44",
   "metadata": {},
   "outputs": [
    {
     "name": "stdout",
     "output_type": "stream",
     "text": [
      "CPU times: user 1.87 ms, sys: 1.24 ms, total: 3.11 ms\n",
      "Wall time: 1.87 ms\n"
     ]
    },
    {
     "data": {
      "text/plain": [
       "array([-0.46820879, -0.82282485, -0.0653801 , -0.71336192,  0.90635089,\n",
       "        0.76623673,  0.82605407, -1.32368279, -1.75244452,  1.00244907,\n",
       "        0.54480945,  1.8951609 , -0.76935745, -1.40309592, -0.63246751,\n",
       "       -0.55887367, -1.23323138, -0.43950352,  0.91478726,  0.26504093,\n",
       "       -1.38337015,  0.6855118 ,  0.45609091, -0.46137426,  0.0947003 ,\n",
       "       -1.54281161,  2.4793696 ,  0.45686676, -0.31387278,  0.02103738,\n",
       "        0.96079316,  0.0584829 , -0.44603217,  0.31919714,  0.84116862,\n",
       "       -1.53276199, -0.28158426,  1.74445271, -0.67423891,  0.58840123,\n",
       "        1.80436346,  2.05625026,  1.45458168, -0.13841169,  0.34287188,\n",
       "       -0.72761848, -1.4039461 , -1.24061119, -0.44348217, -0.04732516])"
      ]
     },
     "execution_count": 8,
     "metadata": {},
     "output_type": "execute_result"
    }
   ],
   "source": [
    "%%time\n",
    "\n",
    "# Generate random normal variates (*observations)\n",
    "# STANDARD NORMAL DISTRIBUTION\n",
    "norm_val = norm.rvs(\n",
    "    loc = 0,  # Mean of 0\n",
    "    scale = 1,  # Standard Deviation of 1\n",
    "    size = 10**4,\n",
    "    random_state = 777  # Random seed --> set a seed for consistent random selection\n",
    ")\n",
    "\n",
    "# Print first-50 values\n",
    "norm_val[0:50]  # NumPy array"
   ]
  },
  {
   "cell_type": "code",
   "execution_count": 9,
   "id": "3e8bf4fa-1357-424b-a97e-d59090cd6b72",
   "metadata": {},
   "outputs": [
    {
     "data": {
      "image/png": "[encoded data removed]",
      "text/plain": [
       "<Figure size 1600x900 with 1 Axes>"
      ]
     },
     "metadata": {},
     "output_type": "display_data"
    }
   ],
   "source": [
    "# Matplotlib to visualize a histogram\n",
    "fig, ax = plt.subplots(\n",
    "    figsize = (16, 9)  # Wide plot\n",
    ")\n",
    "\n",
    "# Seaborn to visualize my histogram\n",
    "sns.histplot(\n",
    "    norm_val,\n",
    "    ax = ax\n",
    ")\n",
    "\n",
    "fig.savefig(\n",
    "    \"standard_normal_histogram.png\", # PNG file\n",
    "    bbox_inches = \"tight\",  # Keep figure intact\n",
    "    dpi = 700  # Resolution\n",
    ")"
   ]
  },
  {
   "cell_type": "code",
   "execution_count": 4,
   "id": "51490be5-1028-482e-bbbd-a764865ae662",
   "metadata": {},
   "outputs": [
    {
     "name": "stdout",
     "output_type": "stream",
     "text": [
      "/Users/huongnguyen/BDA602/venv/bin/python\n",
      "3.13.1 (v3.13.1:06714517797, Dec  3 2024, 14:00:22) [Clang 15.0.0 (clang-1500.3.9.4)]\n"
     ]
    }
   ],
   "source": [
    "import sys\n",
    "print(sys.executable)  # Shows the Python path\n",
    "print(sys.version)      # Shows the Python version"
   ]
  },
  {
   "cell_type": "code",
   "execution_count": null,
   "id": "e7e2e480-2dda-4a78-a870-7460f3646ecf",
   "metadata": {},
   "outputs": [],
   "source": []
  }
 ],
 "metadata": {
  "kernelspec": {
   "display_name": "Python 3 (ipykernel)",
   "language": "python",
   "name": "python3"
  },
  "language_info": {
   "codemirror_mode": {
    "name": "ipython",
    "version": 3
   },
   "file_extension": ".py",
   "mimetype": "text/x-python",
   "name": "python",
   "nbconvert_exporter": "python",
   "pygments_lexer": "ipython3",
   "version": "3.13.1"
  }
 },
 "nbformat": 4,
 "nbformat_minor": 5
}
